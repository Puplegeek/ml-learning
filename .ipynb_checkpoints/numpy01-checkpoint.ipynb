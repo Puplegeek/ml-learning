{
 "cells": [
  {
   "cell_type": "code",
   "execution_count": 1,
   "id": "9623ce17",
   "metadata": {},
   "outputs": [],
   "source": [
    "import numpy as np"
   ]
  },
  {
   "cell_type": "code",
   "execution_count": 2,
   "id": "1b50d817",
   "metadata": {},
   "outputs": [],
   "source": [
    "arr = np.array([1,2,3,4,5,6])"
   ]
  },
  {
   "cell_type": "code",
   "execution_count": 3,
   "id": "57d6ed8b",
   "metadata": {},
   "outputs": [
    {
     "name": "stdout",
     "output_type": "stream",
     "text": [
      "[1 2 3 4 5 6]\n"
     ]
    }
   ],
   "source": [
    "print(arr)"
   ]
  },
  {
   "cell_type": "code",
   "execution_count": 4,
   "id": "5677ee10",
   "metadata": {},
   "outputs": [
    {
     "name": "stdout",
     "output_type": "stream",
     "text": [
      "1.20.1\n"
     ]
    }
   ],
   "source": [
    "print(np.__version__)"
   ]
  },
  {
   "cell_type": "code",
   "execution_count": 5,
   "id": "90050114",
   "metadata": {},
   "outputs": [
    {
     "name": "stdout",
     "output_type": "stream",
     "text": [
      "<class 'numpy.ndarray'>\n"
     ]
    }
   ],
   "source": [
    "print(type(arr))"
   ]
  },
  {
   "cell_type": "markdown",
   "id": "57cd17d6",
   "metadata": {},
   "source": [
    "0D array "
   ]
  },
  {
   "cell_type": "code",
   "execution_count": 6,
   "id": "96368dd9",
   "metadata": {},
   "outputs": [],
   "source": [
    "odarr = np.array(20)"
   ]
  },
  {
   "cell_type": "code",
   "execution_count": 7,
   "id": "5218bd35",
   "metadata": {},
   "outputs": [
    {
     "name": "stdout",
     "output_type": "stream",
     "text": [
      "20\n",
      "0\n"
     ]
    }
   ],
   "source": [
    "print (odarr)\n",
    "print (odarr.ndim)"
   ]
  },
  {
   "cell_type": "markdown",
   "id": "02d045ba",
   "metadata": {},
   "source": [
    "1D array"
   ]
  },
  {
   "cell_type": "code",
   "execution_count": 8,
   "id": "3e1252bb",
   "metadata": {},
   "outputs": [],
   "source": [
    "one_D_array = np.array([1,2,3,4,5,6])"
   ]
  },
  {
   "cell_type": "code",
   "execution_count": 9,
   "id": "966a2d88",
   "metadata": {},
   "outputs": [
    {
     "name": "stdout",
     "output_type": "stream",
     "text": [
      "[1 2 3 4 5 6]\n",
      "1\n"
     ]
    }
   ],
   "source": [
    "print(one_D_array)\n",
    "print (one_D_array.ndim)"
   ]
  },
  {
   "cell_type": "markdown",
   "id": "983e92b7",
   "metadata": {},
   "source": [
    "2D array "
   ]
  },
  {
   "cell_type": "code",
   "execution_count": 10,
   "id": "7f1c5905",
   "metadata": {},
   "outputs": [],
   "source": [
    "two_D_array = np.array([[1,2,3],\n",
    "                        [4,5,6]])"
   ]
  },
  {
   "cell_type": "code",
   "execution_count": 11,
   "id": "74b6bf42",
   "metadata": {},
   "outputs": [
    {
     "name": "stdout",
     "output_type": "stream",
     "text": [
      "[[1 2 3]\n",
      " [4 5 6]]\n",
      "2\n"
     ]
    }
   ],
   "source": [
    "print (two_D_array)\n",
    "print (two_D_array.ndim)"
   ]
  },
  {
   "cell_type": "markdown",
   "id": "7b92a166",
   "metadata": {},
   "source": [
    "3D array "
   ]
  },
  {
   "cell_type": "code",
   "execution_count": 12,
   "id": "526b6327",
   "metadata": {},
   "outputs": [],
   "source": [
    "three_D_array = np.array([[[1,2,3],\n",
    "                           [4,5,6]],\n",
    "                          [[7,8,9],\n",
    "                           [10,11,12]]])"
   ]
  },
  {
   "cell_type": "code",
   "execution_count": 13,
   "id": "7f6d0148",
   "metadata": {},
   "outputs": [
    {
     "name": "stdout",
     "output_type": "stream",
     "text": [
      "[[[ 1  2  3]\n",
      "  [ 4  5  6]]\n",
      "\n",
      " [[ 7  8  9]\n",
      "  [10 11 12]]]\n",
      "3\n"
     ]
    }
   ],
   "source": [
    "print (three_D_array)\n",
    "print (three_D_array.ndim)"
   ]
  },
  {
   "cell_type": "markdown",
   "id": "ebd7a0dd",
   "metadata": {},
   "source": [
    "indexing "
   ]
  },
  {
   "cell_type": "code",
   "execution_count": 14,
   "id": "74de99fc",
   "metadata": {},
   "outputs": [
    {
     "name": "stdout",
     "output_type": "stream",
     "text": [
      "4\n"
     ]
    }
   ],
   "source": [
    "print (one_D_array[3])"
   ]
  },
  {
   "cell_type": "code",
   "execution_count": 15,
   "id": "bf500596",
   "metadata": {},
   "outputs": [
    {
     "name": "stdout",
     "output_type": "stream",
     "text": [
      "6\n"
     ]
    }
   ],
   "source": [
    "print(two_D_array[1,2])"
   ]
  },
  {
   "cell_type": "code",
   "execution_count": 16,
   "id": "0505083c",
   "metadata": {},
   "outputs": [
    {
     "name": "stdout",
     "output_type": "stream",
     "text": [
      "5\n"
     ]
    }
   ],
   "source": [
    "print(three_D_array[0,1,1])"
   ]
  },
  {
   "cell_type": "markdown",
   "id": "54bec1cf",
   "metadata": {},
   "source": [
    "negative indexing"
   ]
  },
  {
   "cell_type": "code",
   "execution_count": 17,
   "id": "091b087e",
   "metadata": {},
   "outputs": [
    {
     "name": "stdout",
     "output_type": "stream",
     "text": [
      "6\n"
     ]
    }
   ],
   "source": [
    "print (one_D_array[-1])"
   ]
  },
  {
   "cell_type": "code",
   "execution_count": 18,
   "id": "c307dd4e",
   "metadata": {},
   "outputs": [
    {
     "name": "stdout",
     "output_type": "stream",
     "text": [
      "6\n"
     ]
    }
   ],
   "source": [
    "print (two_D_array[-1,-1])"
   ]
  },
  {
   "cell_type": "code",
   "execution_count": 19,
   "id": "c2174023",
   "metadata": {},
   "outputs": [
    {
     "name": "stdout",
     "output_type": "stream",
     "text": [
      "11\n"
     ]
    }
   ],
   "source": [
    "print(three_D_array[-1,-1,-2])"
   ]
  },
  {
   "cell_type": "markdown",
   "id": "30ba9f1f",
   "metadata": {},
   "source": [
    "sliceing "
   ]
  },
  {
   "cell_type": "code",
   "execution_count": 20,
   "id": "d9920464",
   "metadata": {},
   "outputs": [],
   "source": [
    "arr = np.array([1,2,3,4,5,6,7])"
   ]
  },
  {
   "cell_type": "code",
   "execution_count": 21,
   "id": "a822b7db",
   "metadata": {},
   "outputs": [
    {
     "name": "stdout",
     "output_type": "stream",
     "text": [
      "[2 3 4 5]\n"
     ]
    }
   ],
   "source": [
    "print (arr[1:5])"
   ]
  },
  {
   "cell_type": "code",
   "execution_count": 22,
   "id": "c81960fb",
   "metadata": {},
   "outputs": [
    {
     "name": "stdout",
     "output_type": "stream",
     "text": [
      "[4 5 6 7]\n"
     ]
    }
   ],
   "source": [
    "print (arr[3:])"
   ]
  },
  {
   "cell_type": "code",
   "execution_count": 25,
   "id": "6a37e645",
   "metadata": {},
   "outputs": [
    {
     "name": "stdout",
     "output_type": "stream",
     "text": [
      "[1 2 3 4 5 6]\n"
     ]
    }
   ],
   "source": [
    "print (arr[:6])"
   ]
  },
  {
   "cell_type": "markdown",
   "id": "8733505f",
   "metadata": {},
   "source": [
    "negative"
   ]
  },
  {
   "cell_type": "code",
   "execution_count": 24,
   "id": "a2dd401d",
   "metadata": {},
   "outputs": [
    {
     "name": "stdout",
     "output_type": "stream",
     "text": [
      "[5 6]\n"
     ]
    }
   ],
   "source": [
    "print (arr[-3:-1])"
   ]
  },
  {
   "cell_type": "markdown",
   "id": "c561d0b0",
   "metadata": {},
   "source": [
    "step"
   ]
  },
  {
   "cell_type": "code",
   "execution_count": 27,
   "id": "e457a39c",
   "metadata": {},
   "outputs": [
    {
     "name": "stdout",
     "output_type": "stream",
     "text": [
      "[2 4]\n"
     ]
    }
   ],
   "source": [
    "print(arr[1:5:2])"
   ]
  },
  {
   "cell_type": "code",
   "execution_count": 28,
   "id": "40533c57",
   "metadata": {},
   "outputs": [
    {
     "name": "stdout",
     "output_type": "stream",
     "text": [
      "[1 3 5 7]\n"
     ]
    }
   ],
   "source": [
    "print(arr[::2])"
   ]
  },
  {
   "cell_type": "markdown",
   "id": "58cf1c14",
   "metadata": {},
   "source": [
    "slicing 2d array"
   ]
  },
  {
   "cell_type": "code",
   "execution_count": 29,
   "id": "96164318",
   "metadata": {},
   "outputs": [],
   "source": [
    "arr=np.array([[1,2,3,4],\n",
    "            [5,6,7,8]])"
   ]
  },
  {
   "cell_type": "code",
   "execution_count": 30,
   "id": "ac702075",
   "metadata": {},
   "outputs": [
    {
     "name": "stdout",
     "output_type": "stream",
     "text": [
      "[2 4]\n"
     ]
    }
   ],
   "source": [
    "print (arr[0,1::2])"
   ]
  },
  {
   "cell_type": "markdown",
   "id": "f6b89a7d",
   "metadata": {},
   "source": [
    "data type"
   ]
  },
  {
   "cell_type": "code",
   "execution_count": 31,
   "id": "31e02529",
   "metadata": {},
   "outputs": [
    {
     "name": "stdout",
     "output_type": "stream",
     "text": [
      "int64\n"
     ]
    }
   ],
   "source": [
    "print(arr.dtype)"
   ]
  },
  {
   "cell_type": "code",
   "execution_count": 32,
   "id": "498f5a3c",
   "metadata": {},
   "outputs": [],
   "source": [
    "arr = np.array(['apple', 'banana', 'cherry'])"
   ]
  },
  {
   "cell_type": "code",
   "execution_count": 33,
   "id": "c4ba45e7",
   "metadata": {},
   "outputs": [
    {
     "name": "stdout",
     "output_type": "stream",
     "text": [
      "<U6\n"
     ]
    }
   ],
   "source": [
    "print(arr.dtype)"
   ]
  },
  {
   "cell_type": "code",
   "execution_count": 40,
   "id": "1c601597",
   "metadata": {},
   "outputs": [],
   "source": [
    "arr=np.array([1,2,3,4],dtype='S')"
   ]
  },
  {
   "cell_type": "code",
   "execution_count": 41,
   "id": "9c91dd60",
   "metadata": {},
   "outputs": [
    {
     "name": "stdout",
     "output_type": "stream",
     "text": [
      "|S1\n"
     ]
    }
   ],
   "source": [
    "print(arr.dtype)"
   ]
  },
  {
   "cell_type": "markdown",
   "id": "65160f57",
   "metadata": {},
   "source": [
    "For i, u, f, S and U we can define size as well."
   ]
  },
  {
   "cell_type": "code",
   "execution_count": 42,
   "id": "895f085d",
   "metadata": {},
   "outputs": [
    {
     "name": "stdout",
     "output_type": "stream",
     "text": [
      "[1 2 3 4]\n",
      "int32\n"
     ]
    }
   ],
   "source": [
    "arr = np.array([1, 2, 3, 4], dtype='i4')\n",
    "\n",
    "print(arr)\n",
    "print(arr.dtype)"
   ]
  },
  {
   "cell_type": "markdown",
   "id": "779efd5d",
   "metadata": {},
   "source": [
    "What if a Value Can Not Be Converted?\n",
    "If a type is given in which elements can't be casted then NumPy will raise a ValueError.\n",
    "\n",
    "ValueError: In Python ValueError is raised when the type of passed argument to a function is unexpected/incorrect."
   ]
  },
  {
   "cell_type": "code",
   "execution_count": 43,
   "id": "fe0d6a4f",
   "metadata": {},
   "outputs": [
    {
     "ename": "ValueError",
     "evalue": "invalid literal for int() with base 10: 'a'",
     "output_type": "error",
     "traceback": [
      "\u001b[0;31m---------------------------------------------------------------------------\u001b[0m",
      "\u001b[0;31mValueError\u001b[0m                                Traceback (most recent call last)",
      "\u001b[0;32m<ipython-input-43-3d3a7c165e54>\u001b[0m in \u001b[0;36m<module>\u001b[0;34m\u001b[0m\n\u001b[1;32m      1\u001b[0m \u001b[0;32mimport\u001b[0m \u001b[0mnumpy\u001b[0m \u001b[0;32mas\u001b[0m \u001b[0mnp\u001b[0m\u001b[0;34m\u001b[0m\u001b[0;34m\u001b[0m\u001b[0m\n\u001b[1;32m      2\u001b[0m \u001b[0;34m\u001b[0m\u001b[0m\n\u001b[0;32m----> 3\u001b[0;31m \u001b[0marr\u001b[0m \u001b[0;34m=\u001b[0m \u001b[0mnp\u001b[0m\u001b[0;34m.\u001b[0m\u001b[0marray\u001b[0m\u001b[0;34m(\u001b[0m\u001b[0;34m[\u001b[0m\u001b[0;34m'a'\u001b[0m\u001b[0;34m,\u001b[0m \u001b[0;34m'2'\u001b[0m\u001b[0;34m,\u001b[0m \u001b[0;34m'3'\u001b[0m\u001b[0;34m]\u001b[0m\u001b[0;34m,\u001b[0m \u001b[0mdtype\u001b[0m\u001b[0;34m=\u001b[0m\u001b[0;34m'i'\u001b[0m\u001b[0;34m)\u001b[0m\u001b[0;34m\u001b[0m\u001b[0;34m\u001b[0m\u001b[0m\n\u001b[0m",
      "\u001b[0;31mValueError\u001b[0m: invalid literal for int() with base 10: 'a'"
     ]
    }
   ],
   "source": [
    "import numpy as np\n",
    "\n",
    "arr = np.array(['a', '2', '3'], dtype='i')"
   ]
  },
  {
   "cell_type": "markdown",
   "id": "bde3c00a",
   "metadata": {},
   "source": [
    "Converting Data Type on Existing Arrays\n",
    "The best way to change the data type of an existing array, is to make a copy of the array with the astype() method.\n",
    "\n",
    "The astype() function creates a copy of the array, and allows you to specify the data type as a parameter.\n",
    "\n",
    "The data type can be specified using a string, like 'f' for float, 'i' for integer etc. or you can use the data type directly like float for float and int for integer."
   ]
  },
  {
   "cell_type": "code",
   "execution_count": 49,
   "id": "c1a035c9",
   "metadata": {},
   "outputs": [],
   "source": [
    "arr = np.array([1.1, 2.1, 3.1,0])"
   ]
  },
  {
   "cell_type": "code",
   "execution_count": 50,
   "id": "ddb7cbf8",
   "metadata": {},
   "outputs": [],
   "source": [
    "newarr = arr.astype('i')"
   ]
  },
  {
   "cell_type": "code",
   "execution_count": 51,
   "id": "90ad0b00",
   "metadata": {},
   "outputs": [
    {
     "name": "stdout",
     "output_type": "stream",
     "text": [
      "[1 2 3 0]\n"
     ]
    }
   ],
   "source": [
    "print(newarr)"
   ]
  },
  {
   "cell_type": "code",
   "execution_count": 52,
   "id": "b0345c65",
   "metadata": {},
   "outputs": [],
   "source": [
    "newarrbool = arr.astype(bool)"
   ]
  },
  {
   "cell_type": "code",
   "execution_count": 53,
   "id": "17d4780f",
   "metadata": {},
   "outputs": [
    {
     "name": "stdout",
     "output_type": "stream",
     "text": [
      "[ True  True  True False]\n"
     ]
    }
   ],
   "source": [
    "print(newarrbool)"
   ]
  },
  {
   "cell_type": "markdown",
   "id": "737d94c7",
   "metadata": {},
   "source": [
    "i = integer\n",
    "b = boolean\n",
    "u = unsigned integer\n",
    "f = float\n",
    "c = complex float\n",
    "m = timedelta\n",
    "M = datetime\n",
    "O = object\n",
    "S = string"
   ]
  },
  {
   "cell_type": "code",
   "execution_count": null,
   "id": "ef6ebad4",
   "metadata": {},
   "outputs": [],
   "source": []
  }
 ],
 "metadata": {
  "kernelspec": {
   "display_name": "Python 3",
   "language": "python",
   "name": "python3"
  },
  "language_info": {
   "codemirror_mode": {
    "name": "ipython",
    "version": 3
   },
   "file_extension": ".py",
   "mimetype": "text/x-python",
   "name": "python",
   "nbconvert_exporter": "python",
   "pygments_lexer": "ipython3",
   "version": "3.8.8"
  }
 },
 "nbformat": 4,
 "nbformat_minor": 5
}
