{
 "cells": [
  {
   "cell_type": "code",
   "execution_count": 1,
   "id": "935d7e27",
   "metadata": {},
   "outputs": [],
   "source": [
    "pac-man game for boolen "
   ]
  },
  {
   "cell_type": "code",
   "execution_count": null,
   "id": "aefae9fd",
   "metadata": {},
   "outputs": [],
   "source": [
    "\"\"\"Functions for implementing the rules of the classic arcade game Pac-Man.\"\"\"\n",
    "\n",
    "\n",
    "def eat_ghost(power_pellet_active, touching_ghost):\n",
    "    \"\"\"Verify that Pac-Man can eat a ghost if he is empowered by a power pellet.\n",
    "\n",
    "    :param power_pellet_active: bool - does the player have an active power pellet?\n",
    "    :param touching_ghost: bool - is the player touching a ghost?\n",
    "    :return: bool - can the ghost be eaten?\n",
    "    \"\"\"\n",
    "\n",
    "    return power_pellet_active and touching_ghost\n",
    "\n",
    "\n",
    "def score(touching_power_pellet, touching_dot):\n",
    "    \"\"\"Verify that Pac-Man has scored when a power pellet or dot has been eaten.\n",
    "\n",
    "    :param touching_power_pellet: bool - is the player touching a power pellet?\n",
    "    :param touching_dot: bool - is the player touching a dot?\n",
    "    :return: bool - has the player scored or not?\n",
    "    \"\"\"\n",
    "\n",
    "    return touching_power_pellet or touching_dot\n",
    "    \n",
    "\n",
    "\n",
    "def lose(power_pellet_active, touching_ghost):\n",
    "    \"\"\"Trigger the game loop to end (GAME OVER) when Pac-Man touches a ghost without his power pellet.\n",
    "\n",
    "    :param power_pellet_active: bool - does the player have an active power pellet?\n",
    "    :param touching_ghost: bool - is the player touching a ghost?\n",
    "    :return: bool - has the player lost the game?\n",
    "    \"\"\"\n",
    "\n",
    "    return not power_pellet_active and touching_ghost\n",
    "\n",
    "\n",
    "def win(has_eaten_all_dots, power_pellet_active, touching_ghost):\n",
    "    \"\"\"Trigger the victory event when all dots have been eaten.\n",
    "\n",
    "    :param has_eaten_all_dots: bool - has the player \"eaten\" all the dots?\n",
    "    :param power_pellet_active: bool - does the player have an active power pellet?\n",
    "    :param touching_ghost: bool - is the player touching a ghost?\n",
    "    :return: bool - has the player won the game?\n",
    "    \"\"\"\n",
    "\n",
    "    return not lose(power_pellet_active, touching_ghost) and has_eaten_all_dots"
   ]
  }
 ],
 "metadata": {
  "kernelspec": {
   "display_name": "Python 3",
   "language": "python",
   "name": "python3"
  },
  "language_info": {
   "codemirror_mode": {
    "name": "ipython",
    "version": 3
   },
   "file_extension": ".py",
   "mimetype": "text/x-python",
   "name": "python",
   "nbconvert_exporter": "python",
   "pygments_lexer": "ipython3",
   "version": "3.8.8"
  }
 },
 "nbformat": 4,
 "nbformat_minor": 5
}
