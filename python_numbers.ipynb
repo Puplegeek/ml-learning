{
 "cells": [
  {
   "cell_type": "code",
   "execution_count": 1,
   "id": "6d329d26",
   "metadata": {},
   "outputs": [],
   "source": [
    "def exchange_money(budget, exchange_rate):\n",
    "    \"\"\"\n",
    "\n",
    "    :param budget: float - amount of money you are planning to exchange.\n",
    "    :param exchange_rate: float - unit value of the foreign currency.\n",
    "    :return: float - exchanged value of the foreign currency you can receive.\n",
    "    \"\"\"\n",
    "\n",
    "    return budget/exchange_rate"
   ]
  },
  {
   "cell_type": "code",
   "execution_count": 2,
   "id": "520cf715",
   "metadata": {},
   "outputs": [],
   "source": [
    "def get_change(budget, exchanging_value):\n",
    "    \"\"\"\n",
    "\n",
    "    :param budget: float - amount of money you own.\n",
    "    :param exchanging_value: float - amount of your money you want to exchange now.\n",
    "    :return: float - amount left of your starting currency after exchanging.\n",
    "    \"\"\"\n",
    "\n",
    "    return budget - exchanging_value"
   ]
  },
  {
   "cell_type": "code",
   "execution_count": 3,
   "id": "12f1c601",
   "metadata": {},
   "outputs": [],
   "source": [
    "def get_value_of_bills(denomination, number_of_bills):\n",
    "    \"\"\"\n",
    "\n",
    "    :param denomination: int - the value of a bill.\n",
    "    :param number_of_bills: int - amount of bills you received.\n",
    "    :return: int - total value of bills you now have.\n",
    "    \"\"\"\n",
    "\n",
    "    return denomination * number_of_bills\n"
   ]
  },
  {
   "cell_type": "code",
   "execution_count": 4,
   "id": "6a189193",
   "metadata": {},
   "outputs": [],
   "source": [
    "def get_number_of_bills(budget, denomination):\n",
    "    \"\"\"\n",
    "\n",
    "    :param budget: float - the amount of money you are planning to exchange.\n",
    "    :param denomination: int - the value of a single bill.\n",
    "    :return: int - number of bills after exchanging all your money.\n",
    "    \"\"\"\n",
    "\n",
    "    return budget // denomination"
   ]
  },
  {
   "cell_type": "code",
   "execution_count": 5,
   "id": "39ee1f8c",
   "metadata": {},
   "outputs": [],
   "source": [
    "def get_leftover_of_bills(budget, denomination):\n",
    "    \"\"\"\n",
    "\n",
    "    :param budget: float - the amount of money you are planning to exchange.\n",
    "    :param denomination: int - the value of a single bill.\n",
    "    :return: float - the leftover amount that cannot be exchanged given the current denomination.\n",
    "    \"\"\"\n",
    "\n",
    "    return budget % denomination"
   ]
  },
  {
   "cell_type": "code",
   "execution_count": null,
   "id": "7908e3fa",
   "metadata": {},
   "outputs": [],
   "source": [
    "def exchangeable_value(budget, exchange_rate, spread, denomination):\n",
    "    \"\"\"\n",
    "\n",
    "    :param budget: float - the amount of your money you are planning to exchange.\n",
    "    :param exchange_rate: float - the unit value of the foreign currency.\n",
    "    :param spread: int - percentage that is taken as an exchange fee.\n",
    "    :param denomination: int - the value of a single bill.\n",
    "    :return: int - maximum value you can get.\n",
    "    \"\"\"\n",
    "\n",
    "    exchange_fee= (spread/100) * exchange_rate \n",
    "    rate = exchange_rate + exchange_fee\n",
    "    get = budget / rate\n",
    "    return int (get // denomination * denomination)"
   ]
  }
 ],
 "metadata": {
  "kernelspec": {
   "display_name": "Python 3",
   "language": "python",
   "name": "python3"
  },
  "language_info": {
   "codemirror_mode": {
    "name": "ipython",
    "version": 3
   },
   "file_extension": ".py",
   "mimetype": "text/x-python",
   "name": "python",
   "nbconvert_exporter": "python",
   "pygments_lexer": "ipython3",
   "version": "3.8.8"
  }
 },
 "nbformat": 4,
 "nbformat_minor": 5
}
