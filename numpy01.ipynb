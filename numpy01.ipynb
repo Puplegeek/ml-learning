{
 "cells": [
  {
   "cell_type": "code",
   "execution_count": 1,
   "id": "9623ce17",
   "metadata": {},
   "outputs": [],
   "source": [
    "import numpy as np"
   ]
  },
  {
   "cell_type": "code",
   "execution_count": 2,
   "id": "1b50d817",
   "metadata": {},
   "outputs": [],
   "source": [
    "arr = np.array([1,2,3,4,5,6])"
   ]
  },
  {
   "cell_type": "code",
   "execution_count": 3,
   "id": "57d6ed8b",
   "metadata": {},
   "outputs": [
    {
     "name": "stdout",
     "output_type": "stream",
     "text": [
      "[1 2 3 4 5 6]\n"
     ]
    }
   ],
   "source": [
    "print(arr)"
   ]
  },
  {
   "cell_type": "code",
   "execution_count": 4,
   "id": "5677ee10",
   "metadata": {},
   "outputs": [
    {
     "name": "stdout",
     "output_type": "stream",
     "text": [
      "1.20.1\n"
     ]
    }
   ],
   "source": [
    "print(np.__version__)"
   ]
  },
  {
   "cell_type": "code",
   "execution_count": 5,
   "id": "90050114",
   "metadata": {},
   "outputs": [
    {
     "name": "stdout",
     "output_type": "stream",
     "text": [
      "<class 'numpy.ndarray'>\n"
     ]
    }
   ],
   "source": [
    "print(type(arr))"
   ]
  },
  {
   "cell_type": "markdown",
   "id": "57cd17d6",
   "metadata": {},
   "source": [
    "0D array "
   ]
  },
  {
   "cell_type": "code",
   "execution_count": 6,
   "id": "96368dd9",
   "metadata": {},
   "outputs": [],
   "source": [
    "odarr = np.array(20)"
   ]
  },
  {
   "cell_type": "code",
   "execution_count": 7,
   "id": "5218bd35",
   "metadata": {},
   "outputs": [
    {
     "name": "stdout",
     "output_type": "stream",
     "text": [
      "20\n",
      "0\n"
     ]
    }
   ],
   "source": [
    "print (odarr)\n",
    "print (odarr.ndim)"
   ]
  },
  {
   "cell_type": "markdown",
   "id": "02d045ba",
   "metadata": {},
   "source": [
    "1D array"
   ]
  },
  {
   "cell_type": "code",
   "execution_count": 8,
   "id": "3e1252bb",
   "metadata": {},
   "outputs": [],
   "source": [
    "one_D_array = np.array([1,2,3,4,5,6])"
   ]
  },
  {
   "cell_type": "code",
   "execution_count": 9,
   "id": "966a2d88",
   "metadata": {},
   "outputs": [
    {
     "name": "stdout",
     "output_type": "stream",
     "text": [
      "[1 2 3 4 5 6]\n",
      "1\n"
     ]
    }
   ],
   "source": [
    "print(one_D_array)\n",
    "print (one_D_array.ndim)"
   ]
  },
  {
   "cell_type": "markdown",
   "id": "983e92b7",
   "metadata": {},
   "source": [
    "2D array "
   ]
  },
  {
   "cell_type": "code",
   "execution_count": 17,
   "id": "7f1c5905",
   "metadata": {},
   "outputs": [],
   "source": [
    "two_D_array = np.array([[1,2,3],\n",
    "                        [4,5,6]])"
   ]
  },
  {
   "cell_type": "code",
   "execution_count": 18,
   "id": "74b6bf42",
   "metadata": {},
   "outputs": [
    {
     "name": "stdout",
     "output_type": "stream",
     "text": [
      "[[1 2 3]\n",
      " [4 5 6]]\n",
      "2\n"
     ]
    }
   ],
   "source": [
    "print (two_D_array)\n",
    "print (two_D_array.ndim)"
   ]
  },
  {
   "cell_type": "markdown",
   "id": "7b92a166",
   "metadata": {},
   "source": [
    "3D array "
   ]
  },
  {
   "cell_type": "code",
   "execution_count": 23,
   "id": "526b6327",
   "metadata": {},
   "outputs": [],
   "source": [
    "three_D_array = np.array([[[1,2,3],\n",
    "                           [4,5,6]],\n",
    "                          [[7,8,9],\n",
    "                           [10,11,12]]])"
   ]
  },
  {
   "cell_type": "code",
   "execution_count": 24,
   "id": "7f6d0148",
   "metadata": {},
   "outputs": [
    {
     "name": "stdout",
     "output_type": "stream",
     "text": [
      "[[[ 1  2  3]\n",
      "  [ 4  5  6]]\n",
      "\n",
      " [[ 7  8  9]\n",
      "  [10 11 12]]]\n",
      "3\n"
     ]
    }
   ],
   "source": [
    "print (three_D_array)\n",
    "print (three_D_array.ndim)"
   ]
  },
  {
   "cell_type": "markdown",
   "id": "ebd7a0dd",
   "metadata": {},
   "source": [
    "indexing "
   ]
  },
  {
   "cell_type": "code",
   "execution_count": 25,
   "id": "74de99fc",
   "metadata": {},
   "outputs": [
    {
     "name": "stdout",
     "output_type": "stream",
     "text": [
      "4\n"
     ]
    }
   ],
   "source": [
    "print (one_D_array[3])"
   ]
  },
  {
   "cell_type": "code",
   "execution_count": 26,
   "id": "bf500596",
   "metadata": {},
   "outputs": [
    {
     "name": "stdout",
     "output_type": "stream",
     "text": [
      "6\n"
     ]
    }
   ],
   "source": [
    "print(two_D_array[1,2])"
   ]
  },
  {
   "cell_type": "code",
   "execution_count": 27,
   "id": "0505083c",
   "metadata": {},
   "outputs": [
    {
     "name": "stdout",
     "output_type": "stream",
     "text": [
      "5\n"
     ]
    }
   ],
   "source": [
    "print(three_D_array[0,1,1])"
   ]
  },
  {
   "cell_type": "markdown",
   "id": "54bec1cf",
   "metadata": {},
   "source": [
    "negative indexing"
   ]
  },
  {
   "cell_type": "code",
   "execution_count": 28,
   "id": "091b087e",
   "metadata": {},
   "outputs": [
    {
     "name": "stdout",
     "output_type": "stream",
     "text": [
      "6\n"
     ]
    }
   ],
   "source": [
    "print (one_D_array[-1])"
   ]
  },
  {
   "cell_type": "code",
   "execution_count": 29,
   "id": "c307dd4e",
   "metadata": {},
   "outputs": [
    {
     "name": "stdout",
     "output_type": "stream",
     "text": [
      "6\n"
     ]
    }
   ],
   "source": [
    "print (two_D_array[-1,-1])"
   ]
  },
  {
   "cell_type": "code",
   "execution_count": 30,
   "id": "c2174023",
   "metadata": {},
   "outputs": [
    {
     "name": "stdout",
     "output_type": "stream",
     "text": [
      "11\n"
     ]
    }
   ],
   "source": [
    "print(three_D_array[-1,-1,-2])"
   ]
  },
  {
   "cell_type": "code",
   "execution_count": null,
   "id": "76d661a8",
   "metadata": {},
   "outputs": [],
   "source": []
  }
 ],
 "metadata": {
  "kernelspec": {
   "display_name": "Python 3",
   "language": "python",
   "name": "python3"
  },
  "language_info": {
   "codemirror_mode": {
    "name": "ipython",
    "version": 3
   },
   "file_extension": ".py",
   "mimetype": "text/x-python",
   "name": "python",
   "nbconvert_exporter": "python",
   "pygments_lexer": "ipython3",
   "version": "3.8.8"
  }
 },
 "nbformat": 4,
 "nbformat_minor": 5
}
